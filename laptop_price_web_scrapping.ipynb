{
  "cells": [
    {
      "cell_type": "markdown",
      "metadata": {
        "id": "view-in-github",
        "colab_type": "text"
      },
      "source": [
        "<a href=\"https://colab.research.google.com/github/varti-pant/laptop_price_ml/blob/main/laptop_price_web_scrapping.ipynb\" target=\"_parent\"><img src=\"https://colab.research.google.com/assets/colab-badge.svg\" alt=\"Open In Colab\"/></a>"
      ]
    },
    {
      "cell_type": "code",
      "execution_count": 18,
      "metadata": {
        "colab": {
          "base_uri": "https://localhost:8080/"
        },
        "id": "FtbPMoAG3QCb",
        "outputId": "c4204a33-3fcb-4468-a8a1-43ce9545580b"
      },
      "outputs": [
        {
          "output_type": "stream",
          "name": "stdout",
          "text": [
            "Requirement already satisfied: beautifulsoup4 in /usr/local/lib/python3.10/dist-packages (4.12.3)\n",
            "Requirement already satisfied: openpyxl in /usr/local/lib/python3.10/dist-packages (3.1.4)\n",
            "Requirement already satisfied: soupsieve>1.2 in /usr/local/lib/python3.10/dist-packages (from beautifulsoup4) (2.5)\n",
            "Requirement already satisfied: et-xmlfile in /usr/local/lib/python3.10/dist-packages (from openpyxl) (1.1.0)\n"
          ]
        }
      ],
      "source": [
        "!pip install beautifulsoup4 openpyxl"
      ]
    },
    {
      "cell_type": "code",
      "source": [
        "from bs4 import BeautifulSoup\n",
        "import pandas as pd\n",
        "from google.colab import files\n",
        "\n",
        "# Upload the HTML file\n",
        "uploaded = files.upload()\n",
        "\n",
        "# Assuming the file is named 'amazon.htm'\n",
        "file_name = 'amazon.htm'\n",
        "\n",
        "# Read the HTML file\n",
        "with open(file_name, 'r', encoding='utf-8') as file:\n",
        "    soup = BeautifulSoup(file, 'html.parser')\n",
        "\n",
        "# Initialize default values\n",
        "company = \"\"\n",
        "ram = \"\"\n",
        "resolution = \"\"\n",
        "screen_size = \"\"\n",
        "memory = \"\"\n",
        "weight = \"\"\n",
        "opsys = \"\"\n",
        "gpu = \"\"\n",
        "cpu = \"\"\n",
        "\n",
        "# Find the specific table\n",
        "table = soup.find('table', {'id': 'productDetails_techSpec_section_1'})\n",
        "\n",
        "if table:\n",
        "    # Iterate through the rows of the table\n",
        "    for row in table.find_all('tr'):\n",
        "        header = row.find('th', {'class': 'a-color-secondary a-size-base prodDetSectionEntry'})\n",
        "        value = row.find('td', {'class': 'a-size-base prodDetAttrValue'})\n",
        "        if header and value:\n",
        "            header_text = header.get_text(strip=True)\n",
        "            value_text = value.get_text(strip=True)\n",
        "            if header_text == \"Brand\":\n",
        "                company = value_text\n",
        "            elif header_text == \"RAM Size\":\n",
        "                ram = value_text\n",
        "            elif header_text == \"Resolution\":\n",
        "                resolution = value_text\n",
        "            elif header_text == \"Standing screen display size\":\n",
        "                screen_size = value_text\n",
        "            elif header_text == \"Hard Drive Size\":\n",
        "                memory = value_text\n",
        "            elif header_text == \"Hard Disk Description\":\n",
        "                memory += \" \" + value_text\n",
        "            elif header_text == \"Item Weight\":\n",
        "                weight = value_text\n",
        "            elif header_text == \"Operating System\":\n",
        "                opsys = value_text\n",
        "            elif header_text == \"Graphics Coprocessor\":\n",
        "                gpu = value_text\n",
        "            elif header_text == \"Processor Brand\":\n",
        "                cpu = value_text\n",
        "            elif header_text == \"Processor Type\":\n",
        "                cpu += \" \" + value_text"
      ],
      "metadata": {
        "colab": {
          "base_uri": "https://localhost:8080/",
          "height": 73
        },
        "id": "ljrHTTUrgjD9",
        "outputId": "1a1977f7-c084-4907-df06-b04e9c20c4a1"
      },
      "execution_count": 19,
      "outputs": [
        {
          "output_type": "display_data",
          "data": {
            "text/plain": [
              "<IPython.core.display.HTML object>"
            ],
            "text/html": [
              "\n",
              "     <input type=\"file\" id=\"files-73395d1f-7d6b-4d08-ac21-044987d83448\" name=\"files[]\" multiple disabled\n",
              "        style=\"border:none\" />\n",
              "     <output id=\"result-73395d1f-7d6b-4d08-ac21-044987d83448\">\n",
              "      Upload widget is only available when the cell has been executed in the\n",
              "      current browser session. Please rerun this cell to enable.\n",
              "      </output>\n",
              "      <script>// Copyright 2017 Google LLC\n",
              "//\n",
              "// Licensed under the Apache License, Version 2.0 (the \"License\");\n",
              "// you may not use this file except in compliance with the License.\n",
              "// You may obtain a copy of the License at\n",
              "//\n",
              "//      http://www.apache.org/licenses/LICENSE-2.0\n",
              "//\n",
              "// Unless required by applicable law or agreed to in writing, software\n",
              "// distributed under the License is distributed on an \"AS IS\" BASIS,\n",
              "// WITHOUT WARRANTIES OR CONDITIONS OF ANY KIND, either express or implied.\n",
              "// See the License for the specific language governing permissions and\n",
              "// limitations under the License.\n",
              "\n",
              "/**\n",
              " * @fileoverview Helpers for google.colab Python module.\n",
              " */\n",
              "(function(scope) {\n",
              "function span(text, styleAttributes = {}) {\n",
              "  const element = document.createElement('span');\n",
              "  element.textContent = text;\n",
              "  for (const key of Object.keys(styleAttributes)) {\n",
              "    element.style[key] = styleAttributes[key];\n",
              "  }\n",
              "  return element;\n",
              "}\n",
              "\n",
              "// Max number of bytes which will be uploaded at a time.\n",
              "const MAX_PAYLOAD_SIZE = 100 * 1024;\n",
              "\n",
              "function _uploadFiles(inputId, outputId) {\n",
              "  const steps = uploadFilesStep(inputId, outputId);\n",
              "  const outputElement = document.getElementById(outputId);\n",
              "  // Cache steps on the outputElement to make it available for the next call\n",
              "  // to uploadFilesContinue from Python.\n",
              "  outputElement.steps = steps;\n",
              "\n",
              "  return _uploadFilesContinue(outputId);\n",
              "}\n",
              "\n",
              "// This is roughly an async generator (not supported in the browser yet),\n",
              "// where there are multiple asynchronous steps and the Python side is going\n",
              "// to poll for completion of each step.\n",
              "// This uses a Promise to block the python side on completion of each step,\n",
              "// then passes the result of the previous step as the input to the next step.\n",
              "function _uploadFilesContinue(outputId) {\n",
              "  const outputElement = document.getElementById(outputId);\n",
              "  const steps = outputElement.steps;\n",
              "\n",
              "  const next = steps.next(outputElement.lastPromiseValue);\n",
              "  return Promise.resolve(next.value.promise).then((value) => {\n",
              "    // Cache the last promise value to make it available to the next\n",
              "    // step of the generator.\n",
              "    outputElement.lastPromiseValue = value;\n",
              "    return next.value.response;\n",
              "  });\n",
              "}\n",
              "\n",
              "/**\n",
              " * Generator function which is called between each async step of the upload\n",
              " * process.\n",
              " * @param {string} inputId Element ID of the input file picker element.\n",
              " * @param {string} outputId Element ID of the output display.\n",
              " * @return {!Iterable<!Object>} Iterable of next steps.\n",
              " */\n",
              "function* uploadFilesStep(inputId, outputId) {\n",
              "  const inputElement = document.getElementById(inputId);\n",
              "  inputElement.disabled = false;\n",
              "\n",
              "  const outputElement = document.getElementById(outputId);\n",
              "  outputElement.innerHTML = '';\n",
              "\n",
              "  const pickedPromise = new Promise((resolve) => {\n",
              "    inputElement.addEventListener('change', (e) => {\n",
              "      resolve(e.target.files);\n",
              "    });\n",
              "  });\n",
              "\n",
              "  const cancel = document.createElement('button');\n",
              "  inputElement.parentElement.appendChild(cancel);\n",
              "  cancel.textContent = 'Cancel upload';\n",
              "  const cancelPromise = new Promise((resolve) => {\n",
              "    cancel.onclick = () => {\n",
              "      resolve(null);\n",
              "    };\n",
              "  });\n",
              "\n",
              "  // Wait for the user to pick the files.\n",
              "  const files = yield {\n",
              "    promise: Promise.race([pickedPromise, cancelPromise]),\n",
              "    response: {\n",
              "      action: 'starting',\n",
              "    }\n",
              "  };\n",
              "\n",
              "  cancel.remove();\n",
              "\n",
              "  // Disable the input element since further picks are not allowed.\n",
              "  inputElement.disabled = true;\n",
              "\n",
              "  if (!files) {\n",
              "    return {\n",
              "      response: {\n",
              "        action: 'complete',\n",
              "      }\n",
              "    };\n",
              "  }\n",
              "\n",
              "  for (const file of files) {\n",
              "    const li = document.createElement('li');\n",
              "    li.append(span(file.name, {fontWeight: 'bold'}));\n",
              "    li.append(span(\n",
              "        `(${file.type || 'n/a'}) - ${file.size} bytes, ` +\n",
              "        `last modified: ${\n",
              "            file.lastModifiedDate ? file.lastModifiedDate.toLocaleDateString() :\n",
              "                                    'n/a'} - `));\n",
              "    const percent = span('0% done');\n",
              "    li.appendChild(percent);\n",
              "\n",
              "    outputElement.appendChild(li);\n",
              "\n",
              "    const fileDataPromise = new Promise((resolve) => {\n",
              "      const reader = new FileReader();\n",
              "      reader.onload = (e) => {\n",
              "        resolve(e.target.result);\n",
              "      };\n",
              "      reader.readAsArrayBuffer(file);\n",
              "    });\n",
              "    // Wait for the data to be ready.\n",
              "    let fileData = yield {\n",
              "      promise: fileDataPromise,\n",
              "      response: {\n",
              "        action: 'continue',\n",
              "      }\n",
              "    };\n",
              "\n",
              "    // Use a chunked sending to avoid message size limits. See b/62115660.\n",
              "    let position = 0;\n",
              "    do {\n",
              "      const length = Math.min(fileData.byteLength - position, MAX_PAYLOAD_SIZE);\n",
              "      const chunk = new Uint8Array(fileData, position, length);\n",
              "      position += length;\n",
              "\n",
              "      const base64 = btoa(String.fromCharCode.apply(null, chunk));\n",
              "      yield {\n",
              "        response: {\n",
              "          action: 'append',\n",
              "          file: file.name,\n",
              "          data: base64,\n",
              "        },\n",
              "      };\n",
              "\n",
              "      let percentDone = fileData.byteLength === 0 ?\n",
              "          100 :\n",
              "          Math.round((position / fileData.byteLength) * 100);\n",
              "      percent.textContent = `${percentDone}% done`;\n",
              "\n",
              "    } while (position < fileData.byteLength);\n",
              "  }\n",
              "\n",
              "  // All done.\n",
              "  yield {\n",
              "    response: {\n",
              "      action: 'complete',\n",
              "    }\n",
              "  };\n",
              "}\n",
              "\n",
              "scope.google = scope.google || {};\n",
              "scope.google.colab = scope.google.colab || {};\n",
              "scope.google.colab._files = {\n",
              "  _uploadFiles,\n",
              "  _uploadFilesContinue,\n",
              "};\n",
              "})(self);\n",
              "</script> "
            ]
          },
          "metadata": {}
        },
        {
          "output_type": "stream",
          "name": "stdout",
          "text": [
            "Saving amazon.htm to amazon (1).htm\n"
          ]
        }
      ]
    },
    {
      "cell_type": "code",
      "source": [
        "print(cpu)"
      ],
      "metadata": {
        "colab": {
          "base_uri": "https://localhost:8080/"
        },
        "id": "y4JuJhG73-OR",
        "outputId": "926578ed-ba23-4c4c-edae-dde8a373f8c6"
      },
      "execution_count": 20,
      "outputs": [
        {
          "output_type": "stream",
          "name": "stdout",
          "text": [
            "‎Intel ‎Celeron N4020\n"
          ]
        }
      ]
    },
    {
      "cell_type": "code",
      "source": [
        "def clean_ram(ram_str):\n",
        "    ram_cleaned = ''.join(filter(str.isdigit, ram_str))\n",
        "    if ram_cleaned:\n",
        "        return int(ram_cleaned)\n",
        "    else:\n",
        "        return 0\n",
        "\n",
        "cleaned_ram = clean_ram(ram)\n",
        "print(f\"Original: {ram}, Cleaned: {cleaned_ram}\")"
      ],
      "metadata": {
        "colab": {
          "base_uri": "https://localhost:8080/"
        },
        "id": "75g1OY8UiNRT",
        "outputId": "4b3dab03-4bcf-43c4-dc5f-e6544e9ffe37"
      },
      "execution_count": 21,
      "outputs": [
        {
          "output_type": "stream",
          "name": "stdout",
          "text": [
            "Original: ‎8 GB, Cleaned: 8\n"
          ]
        }
      ]
    },
    {
      "cell_type": "code",
      "source": [
        "# Function to clean and convert weight value\n",
        "def convert_weight_format(weight_str):\n",
        "    parts = weight_str.split()  # Split by space\n",
        "    kg = float(parts[0].replace('kg', '').replace('\\u200e', '').strip())  # Remove 'kg' and non-printing characters, then convert to float\n",
        "    g = float(parts[1].replace('g', '').replace('\\u200e', '').strip())  # Remove 'g' and non-printing characters, then convert to float\n",
        "    total_weight = kg + (g / 1000)  # Convert grams to kilograms\n",
        "    return round(total_weight, 3)  # Round to three decimal places\n",
        "\n",
        "# Example weight value\n",
        "weight = \"‎1kg 680g\"\n",
        "\n",
        "# Apply the function to the weight value\n",
        "cleaned_weight = convert_weight_format(weight)\n",
        "print(f\"Original: {weight}, Cleaned: {cleaned_weight} kg\")\n"
      ],
      "metadata": {
        "colab": {
          "base_uri": "https://localhost:8080/"
        },
        "id": "Bujkz3m3jesf",
        "outputId": "1bb2f485-00fc-44d0-b253-75271e2fa76f"
      },
      "execution_count": 22,
      "outputs": [
        {
          "output_type": "stream",
          "name": "stdout",
          "text": [
            "Original: ‎1kg 680g, Cleaned: 1.68 kg\n"
          ]
        }
      ]
    },
    {
      "cell_type": "code",
      "source": [
        "# Function to extract and clean resolution values\n",
        "def extract_resolution(resolution_str):\n",
        "    parts = resolution_str.replace('pixel', '').replace('Pixel', '').replace('Pixels', '').strip().split('x')\n",
        "    x_res = int(''.join(filter(str.isdigit, parts[0])))\n",
        "    y_res = int(''.join(filter(str.isdigit, parts[1])))\n",
        "    return x_res, y_res\n",
        "\n",
        "# Example resolution value\n",
        "resolution = \"‎1920 x 1080 Pixels\"\n",
        "\n",
        "# Apply the function to the resolution value\n",
        "x_res, y_res = extract_resolution(resolution)\n",
        "print(f\"Original: {resolution}, X_res: {x_res}, Y_res: {y_res}\")\n"
      ],
      "metadata": {
        "colab": {
          "base_uri": "https://localhost:8080/"
        },
        "id": "AaO7Wl_soPLl",
        "outputId": "1b5caef3-a6bb-416c-c363-1904d13a5122"
      },
      "execution_count": 23,
      "outputs": [
        {
          "output_type": "stream",
          "name": "stdout",
          "text": [
            "Original: ‎1920 x 1080 Pixels, X_res: 1920, Y_res: 1080\n"
          ]
        }
      ]
    },
    {
      "cell_type": "code",
      "source": [
        "# Function to clean and convert screen size\n",
        "def clean_screen_size(screen_size_str):\n",
        "    # Remove any non-numeric characters except the decimal point and then convert to float\n",
        "    screen_size = float(''.join(filter(lambda x: x.isdigit() or x == '.', screen_size_str)))\n",
        "    return round(screen_size, 3)\n",
        "\n",
        "# Example screen size value\n",
        "screen_size = \"‎14.0 Inches\"\n",
        "\n",
        "# Apply the function to the screen size value\n",
        "cleaned_screen_size = clean_screen_size(screen_size)\n",
        "print(f\"Original: {screen_size}, Cleaned: {cleaned_screen_size}\")"
      ],
      "metadata": {
        "colab": {
          "base_uri": "https://localhost:8080/"
        },
        "id": "JvB-gJA1o4gW",
        "outputId": "e497bd8b-78d0-4ac0-df61-2a65683bae6f"
      },
      "execution_count": 24,
      "outputs": [
        {
          "output_type": "stream",
          "name": "stdout",
          "text": [
            "Original: ‎14.0 Inches, Cleaned: 14.0\n"
          ]
        }
      ]
    },
    {
      "cell_type": "code",
      "source": [
        "import math\n",
        "def calculate_ppi(x_res, y_res, screen_size):\n",
        "    ppi = (math.sqrt(x_res**2 + y_res**2) / screen_size)\n",
        "    return round(ppi, 3)\n",
        "\n",
        "# Example values\n",
        "x_res = 1920\n",
        "y_res = 1080\n",
        "screen_size = 14.0\n",
        "\n",
        "# Calculate PPI\n",
        "ppi = calculate_ppi(x_res, y_res, screen_size)\n",
        "print(f\"X_res: {x_res}, Y_res: {y_res}, Screen Size: {screen_size}, PPI: {ppi}\")"
      ],
      "metadata": {
        "colab": {
          "base_uri": "https://localhost:8080/"
        },
        "id": "4HJaaB1GpUA7",
        "outputId": "6b18c8bf-2967-453f-d025-312cfaf2e8a5"
      },
      "execution_count": 25,
      "outputs": [
        {
          "output_type": "stream",
          "name": "stdout",
          "text": [
            "X_res: 1920, Y_res: 1080, Screen Size: 14.0, PPI: 157.351\n"
          ]
        }
      ]
    },
    {
      "cell_type": "code",
      "source": [
        "# Function to clean a single OS name\n",
        "def clean_os(os_str):\n",
        "    os_str = os_str.strip().lower()\n",
        "    if 'windows' in os_str:\n",
        "        return 'Windows'\n",
        "    elif 'mac' in os_str or 'macos' in os_str:\n",
        "        return 'MacOS'\n",
        "    elif 'linux' in os_str:\n",
        "        return 'Linux'\n",
        "    else:\n",
        "        return 'Other'\n",
        "\n",
        "# Example OS value\n",
        "os_value = \"Windows 10 Home\"\n",
        "\n",
        "# Clean and standardize the OS value\n",
        "cleaned_os_value = clean_os(os_value)\n",
        "print(f\"Original: {os_value}, Cleaned: {cleaned_os_value}\")"
      ],
      "metadata": {
        "colab": {
          "base_uri": "https://localhost:8080/"
        },
        "id": "NPoTQr-LqRIY",
        "outputId": "06337095-c5ee-4a1b-c7d1-a9958503e058"
      },
      "execution_count": 26,
      "outputs": [
        {
          "output_type": "stream",
          "name": "stdout",
          "text": [
            "Original: Windows 10 Home, Cleaned: Windows\n"
          ]
        }
      ]
    },
    {
      "cell_type": "code",
      "source": [
        "# Check for Touchscreen and IPS in meta and title tags\n",
        "meta_tag = soup.find('meta', attrs={'name': 'title'})\n",
        "content_meta = meta_tag['content']\n",
        "has_touchscreen_meta = 'touchscreen' in content_meta.lower()\n",
        "has_ips_meta = 'ips' in content_meta.lower()\n",
        "\n",
        "title_tag = soup.find('title')\n",
        "content_title = title_tag.get_text()\n",
        "has_touchscreen_title = 'touchscreen' in content_title.lower()\n",
        "has_ips_title = 'ips' in content_title.lower()\n",
        "\n",
        "has_touchscreen = 1 if (has_touchscreen_meta or has_touchscreen_title) else 0\n",
        "has_ips = 1 if (has_ips_meta or has_ips_title) else 0\n",
        "\n",
        "print(f\"{has_touchscreen}\")\n",
        "print(f\"{has_ips}\")"
      ],
      "metadata": {
        "colab": {
          "base_uri": "https://localhost:8080/"
        },
        "id": "heRyT9lpvB9b",
        "outputId": "b16b4795-fba3-4859-98fc-f4ca16022140"
      },
      "execution_count": 27,
      "outputs": [
        {
          "output_type": "stream",
          "name": "stdout",
          "text": [
            "0\n",
            "0\n"
          ]
        }
      ]
    },
    {
      "cell_type": "code",
      "source": [
        "hdd = 0"
      ],
      "metadata": {
        "id": "PYPPOV3u6dgS"
      },
      "execution_count": 28,
      "outputs": []
    },
    {
      "cell_type": "code",
      "source": [
        "def fetch_processor(text):\n",
        "    if text in ['Intel Core i7', 'Intel Core i5', 'Intel Core i3']:\n",
        "        return text\n",
        "    elif 'Intel' in text:\n",
        "        return 'Other Intel Processor'\n",
        "    else:\n",
        "        return 'AMD Processor'\n",
        "\n",
        "processed_processor = fetch_processor(cpu)\n",
        "print(f\"Original: {cpu}, Processed: {processed_processor}\")"
      ],
      "metadata": {
        "colab": {
          "base_uri": "https://localhost:8080/"
        },
        "id": "ZXZplENA9i2h",
        "outputId": "1cacacca-eb8f-4e36-f606-36f31b7fbd8d"
      },
      "execution_count": 29,
      "outputs": [
        {
          "output_type": "stream",
          "name": "stdout",
          "text": [
            "Original: ‎Intel ‎Celeron N4020, Processed: Other Intel Processor\n"
          ]
        }
      ]
    },
    {
      "cell_type": "code",
      "source": [
        "import re\n",
        "\n",
        "def extract_numeric_value(storage_string):\n",
        "    # Use a regular expression to find the first sequence of digits in the string\n",
        "    match = re.search(r'\\d+', storage_string)\n",
        "    if match:\n",
        "        return float(match.group(0))\n",
        "    else:\n",
        "        return None\n",
        "\n",
        "cleaned_memory = extract_numeric_value(memory)\n",
        "print(f\"Original: {memory}, Processed: {extract_numeric_value(memory)}\")"
      ],
      "metadata": {
        "colab": {
          "base_uri": "https://localhost:8080/"
        },
        "id": "gY4TC-4kYA3Y",
        "outputId": "20c2ae77-c834-4372-9e6a-a3ca693619e5"
      },
      "execution_count": 35,
      "outputs": [
        {
          "output_type": "stream",
          "name": "stdout",
          "text": [
            "Original: 256 GB SSD, Processed: 256.0\n"
          ]
        }
      ]
    },
    {
      "cell_type": "code",
      "source": [
        "company = company.replace('\\u200e', '')\n",
        "gpu = gpu.replace('\\u200e', '')\n",
        "memory = memory.replace('\\u200e', '')"
      ],
      "metadata": {
        "id": "ybSzVi8rD1me"
      },
      "execution_count": 31,
      "outputs": []
    },
    {
      "cell_type": "code",
      "source": [
        "data = [\n",
        "    ['Company', 'Ram', 'Weight', 'Touchscreen', 'Ips', 'Ppi', 'Cpu brand', 'HDD', 'SSD', 'Gpu brand', 'os'],\n",
        "    [company, cleaned_ram, cleaned_weight, has_touchscreen, has_ips, ppi, processed_processor, hdd, cleaned_memory, gpu, cleaned_os_value]\n",
        "]\n",
        "for row in data:\n",
        "    print(row)"
      ],
      "metadata": {
        "colab": {
          "base_uri": "https://localhost:8080/"
        },
        "id": "3LXEsIOzCMVT",
        "outputId": "c313d3d3-91cb-4105-a73c-83fb804bdb8c"
      },
      "execution_count": 36,
      "outputs": [
        {
          "output_type": "stream",
          "name": "stdout",
          "text": [
            "['Company', 'Ram', 'Weight', 'Touchscreen', 'Ips', 'Ppi', 'Cpu brand', 'HDD', 'SSD', 'Gpu brand', 'os']\n",
            "['ASUS', 8, 1.68, 0, 0, 157.351, 'Other Intel Processor', 0, 256.0, 'Intel UHD Graphics', 'Windows']\n"
          ]
        }
      ]
    },
    {
      "cell_type": "code",
      "source": [
        "headers = ['Company', 'Ram', 'Weight', 'Touchscreen', 'Ips', 'Ppi', 'Cpu brand', 'HDD', 'SSD', 'Gpu brand', 'os']\n",
        "values = [company, cleaned_ram, cleaned_weight, has_touchscreen, has_ips, ppi, processed_processor, hdd, cleaned_memory, gpu, cleaned_os_value]\n",
        "\n",
        "for header, value in zip(headers, values):\n",
        "    print(f\"{header}: {value}\")"
      ],
      "metadata": {
        "colab": {
          "base_uri": "https://localhost:8080/"
        },
        "id": "YxmFf16cEJyP",
        "outputId": "936ef031-0716-4275-801b-169e9cba8b51"
      },
      "execution_count": 37,
      "outputs": [
        {
          "output_type": "stream",
          "name": "stdout",
          "text": [
            "Company: ASUS\n",
            "Ram: 8\n",
            "Weight: 1.68\n",
            "Touchscreen: 0\n",
            "Ips: 0\n",
            "Ppi: 157.351\n",
            "Cpu brand: Other Intel Processor\n",
            "HDD: 0\n",
            "SSD: 256.0\n",
            "Gpu brand: Intel UHD Graphics\n",
            "os: Windows\n"
          ]
        }
      ]
    },
    {
      "cell_type": "code",
      "execution_count": 39,
      "metadata": {
        "id": "0QpvEjVo5lzm",
        "colab": {
          "base_uri": "https://localhost:8080/",
          "height": 17
        },
        "outputId": "869b57b1-c046-4a09-9393-b6424a21d8f2"
      },
      "outputs": [
        {
          "output_type": "display_data",
          "data": {
            "text/plain": [
              "<IPython.core.display.Javascript object>"
            ],
            "application/javascript": [
              "\n",
              "    async function download(id, filename, size) {\n",
              "      if (!google.colab.kernel.accessAllowed) {\n",
              "        return;\n",
              "      }\n",
              "      const div = document.createElement('div');\n",
              "      const label = document.createElement('label');\n",
              "      label.textContent = `Downloading \"${filename}\": `;\n",
              "      div.appendChild(label);\n",
              "      const progress = document.createElement('progress');\n",
              "      progress.max = size;\n",
              "      div.appendChild(progress);\n",
              "      document.body.appendChild(div);\n",
              "\n",
              "      const buffers = [];\n",
              "      let downloaded = 0;\n",
              "\n",
              "      const channel = await google.colab.kernel.comms.open(id);\n",
              "      // Send a message to notify the kernel that we're ready.\n",
              "      channel.send({})\n",
              "\n",
              "      for await (const message of channel.messages) {\n",
              "        // Send a message to notify the kernel that we're ready.\n",
              "        channel.send({})\n",
              "        if (message.buffers) {\n",
              "          for (const buffer of message.buffers) {\n",
              "            buffers.push(buffer);\n",
              "            downloaded += buffer.byteLength;\n",
              "            progress.value = downloaded;\n",
              "          }\n",
              "        }\n",
              "      }\n",
              "      const blob = new Blob(buffers, {type: 'application/binary'});\n",
              "      const a = document.createElement('a');\n",
              "      a.href = window.URL.createObjectURL(blob);\n",
              "      a.download = filename;\n",
              "      div.appendChild(a);\n",
              "      a.click();\n",
              "      div.remove();\n",
              "    }\n",
              "  "
            ]
          },
          "metadata": {}
        },
        {
          "output_type": "display_data",
          "data": {
            "text/plain": [
              "<IPython.core.display.Javascript object>"
            ],
            "application/javascript": [
              "download(\"download_5311e649-b33f-4f14-a6c2-a1e3d43659a1\", \"Product_Details.csv\", 153)"
            ]
          },
          "metadata": {}
        }
      ],
      "source": [
        "import csv\n",
        "from google.colab import files\n",
        "\n",
        "# Define the output CSV file path\n",
        "output_file_path = 'Product_Details.csv'\n",
        "\n",
        "# Write to CSV file\n",
        "with open(output_file_path, 'w', newline='', encoding='utf-8') as file:\n",
        "    writer = csv.writer(file)\n",
        "    writer.writerows(data)\n",
        "\n",
        "# Download the CSV file\n",
        "files.download(output_file_path)"
      ]
    }
  ],
  "metadata": {
    "colab": {
      "provenance": [],
      "authorship_tag": "ABX9TyNbkzNz+66SFBDwPfjMGscM",
      "include_colab_link": true
    },
    "kernelspec": {
      "display_name": "Python 3",
      "name": "python3"
    },
    "language_info": {
      "name": "python"
    }
  },
  "nbformat": 4,
  "nbformat_minor": 0
}